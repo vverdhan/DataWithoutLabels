{
 "cells": [
  {
   "cell_type": "code",
   "execution_count": 6,
   "metadata": {},
   "outputs": [],
   "source": [
    "import keras\n",
    "from keras import layers"
   ]
  },
  {
   "cell_type": "code",
   "execution_count": 2,
   "metadata": {},
   "outputs": [
    {
     "name": "stdout",
     "output_type": "stream",
     "text": [
      "WARNING:tensorflow:From /Users/vaibhavverdhan/anaconda3/lib/python3.6/site-packages/tensorflow/python/framework/op_def_library.py:263: colocate_with (from tensorflow.python.framework.ops) is deprecated and will be removed in a future version.\n",
      "Instructions for updating:\n",
      "Colocations handled automatically by placer.\n"
     ]
    }
   ],
   "source": [
    "# This is the size of our encoded representations\n",
    "encoding_dim = 32  # 32 floats -> compression of factor 24.5, assuming the input is 784 floats\n",
    "\n",
    "# This is our input image\n",
    "input_img = keras.Input(shape=(784,))\n",
    "# \"encoded\" is the encoded representation of the input\n",
    "encoded = layers.Dense(encoding_dim, activation='relu')(input_img)\n",
    "# \"decoded\" is the lossy reconstruction of the input\n",
    "decoded = layers.Dense(784, activation='sigmoid')(encoded)\n",
    "\n",
    "# This model maps an input to its reconstruction\n",
    "autoencoder = keras.Model(input_img, decoded)"
   ]
  },
  {
   "cell_type": "code",
   "execution_count": 3,
   "metadata": {},
   "outputs": [],
   "source": [
    "# This model maps an input to its encoded representation\n",
    "encoder = keras.Model(input_img, encoded)"
   ]
  },
  {
   "cell_type": "code",
   "execution_count": 4,
   "metadata": {},
   "outputs": [],
   "source": [
    "# This is our encoded (32-dimensional) input\n",
    "encoded_input = keras.Input(shape=(encoding_dim,))\n",
    "# Retrieve the last layer of the autoencoder model\n",
    "decoder_layer = autoencoder.layers[-1]\n",
    "# Create the decoder model\n",
    "decoder = keras.Model(encoded_input, decoder_layer(encoded_input))"
   ]
  },
  {
   "cell_type": "code",
   "execution_count": 5,
   "metadata": {},
   "outputs": [],
   "source": [
    "autoencoder.compile(optimizer='adam', loss='binary_crossentropy')\n"
   ]
  },
  {
   "cell_type": "code",
   "execution_count": 7,
   "metadata": {},
   "outputs": [],
   "source": [
    "(x_train, _), (x_test, _) = mnist.load_data()"
   ]
  },
  {
   "cell_type": "code",
   "execution_count": 8,
   "metadata": {},
   "outputs": [
    {
     "name": "stdout",
     "output_type": "stream",
     "text": [
      "(60000, 784)\n",
      "(10000, 784)\n"
     ]
    }
   ],
   "source": [
    "x_train = x_train.astype('float32') / 255.\n",
    "x_test = x_test.astype('float32') / 255.\n",
    "x_train = x_train.reshape((len(x_train), np.prod(x_train.shape[1:])))\n",
    "x_test = x_test.reshape((len(x_test), np.prod(x_test.shape[1:])))\n",
    "print(x_train.shape)\n",
    "print(x_test.shape)"
   ]
  },
  {
   "cell_type": "code",
   "execution_count": 9,
   "metadata": {},
   "outputs": [
    {
     "name": "stdout",
     "output_type": "stream",
     "text": [
      "WARNING:tensorflow:From /Users/vaibhavverdhan/anaconda3/lib/python3.6/site-packages/tensorflow/python/ops/math_ops.py:3066: to_int32 (from tensorflow.python.ops.math_ops) is deprecated and will be removed in a future version.\n",
      "Instructions for updating:\n",
      "Use tf.cast instead.\n",
      "Train on 60000 samples, validate on 10000 samples\n",
      "Epoch 1/5\n",
      "60000/60000 [==============================] - 2s 32us/step - loss: 0.2271 - val_loss: 0.1579\n",
      "Epoch 2/5\n",
      "60000/60000 [==============================] - 2s 26us/step - loss: 0.1409 - val_loss: 0.1252\n",
      "Epoch 3/5\n",
      "60000/60000 [==============================] - 1s 24us/step - loss: 0.1184 - val_loss: 0.1103\n",
      "Epoch 4/5\n",
      "60000/60000 [==============================] - 1s 24us/step - loss: 0.1072 - val_loss: 0.1025\n",
      "Epoch 5/5\n",
      "60000/60000 [==============================] - 1s 25us/step - loss: 0.1009 - val_loss: 0.0974\n"
     ]
    },
    {
     "data": {
      "text/plain": [
       "<keras.callbacks.History at 0x7f852e2bfd30>"
      ]
     },
     "execution_count": 9,
     "metadata": {},
     "output_type": "execute_result"
    }
   ],
   "source": [
    "autoencoder.fit(x_train, x_train,\n",
    "                epochs=5,\n",
    "                batch_size=128,\n",
    "                shuffle=True,\n",
    "                validation_data=(x_test, x_test))"
   ]
  },
  {
   "cell_type": "code",
   "execution_count": 10,
   "metadata": {},
   "outputs": [],
   "source": [
    "# Encode and decode some digits\n",
    "# Note that we take them from the *test* set\n",
    "encoded_imgs = encoder.predict(x_test)\n",
    "decoded_imgs = decoder.predict(encoded_imgs)"
   ]
  },
  {
   "cell_type": "code",
   "execution_count": 12,
   "metadata": {},
   "outputs": [
    {
     "data": {
      "image/png": "[encoded data removed]",
      "text/plain": [
       "<Figure size 1440x288 with 20 Axes>"
      ]
     },
     "metadata": {
      "needs_background": "light"
     },
     "output_type": "display_data"
    }
   ],
   "source": [
    "# Use Matplotlib (don't ask)\n",
    "import matplotlib.pyplot as plt\n",
    "\n",
    "n = 10  # How many digits we will display\n",
    "plt.figure(figsize=(20, 4))\n",
    "for i in range(n):\n",
    "    # Display original\n",
    "    ax = plt.subplot(2, n, i + 1)\n",
    "    plt.imshow(x_test[i].reshape(28, 28))\n",
    "    plt.gray()\n",
    "    ax.get_xaxis().set_visible(False)\n",
    "    ax.get_yaxis().set_visible(False)\n",
    "\n",
    "    # Display reconstruction\n",
    "    ax = plt.subplot(2, n, i + 1 + n)\n",
    "    plt.imshow(decoded_imgs[i].reshape(28, 28))\n",
    "    plt.gray()\n",
    "    ax.get_xaxis().set_visible(False)\n",
    "    ax.get_yaxis().set_visible(False)\n",
    "plt.show()"
   ]
  },
  {
   "cell_type": "code",
   "execution_count": null,
   "metadata": {},
   "outputs": [],
   "source": []
  },
  {
   "cell_type": "code",
   "execution_count": 13,
   "metadata": {},
   "outputs": [],
   "source": [
    "input_img = keras.Input(shape=(784,))\n",
    "encoded = layers.Dense(128, activation='relu')(input_img)\n",
    "encoded = layers.Dense(64, activation='relu')(encoded)\n",
    "encoded = layers.Dense(32, activation='relu')(encoded)\n",
    "\n",
    "decoded = layers.Dense(64, activation='relu')(encoded)\n",
    "decoded = layers.Dense(128, activation='relu')(decoded)\n",
    "decoded = layers.Dense(784, activation='sigmoid')(decoded)"
   ]
  },
  {
   "cell_type": "code",
   "execution_count": 14,
   "metadata": {},
   "outputs": [
    {
     "name": "stdout",
     "output_type": "stream",
     "text": [
      "Train on 60000 samples, validate on 10000 samples\n",
      "Epoch 1/100\n",
      "60000/60000 [==============================] - 2s 40us/step - loss: 0.2478 - val_loss: 0.1694\n",
      "Epoch 2/100\n",
      "60000/60000 [==============================] - 2s 30us/step - loss: 0.1521 - val_loss: 0.1372\n",
      "Epoch 3/100\n",
      "60000/60000 [==============================] - 2s 31us/step - loss: 0.1321 - val_loss: 0.1251\n",
      "Epoch 4/100\n",
      "60000/60000 [==============================] - 2s 31us/step - loss: 0.1229 - val_loss: 0.1190\n",
      "Epoch 5/100\n",
      "60000/60000 [==============================] - 2s 33us/step - loss: 0.1174 - val_loss: 0.1136\n",
      "Epoch 6/100\n",
      "60000/60000 [==============================] - 2s 34us/step - loss: 0.1124 - val_loss: 0.1088\n",
      "Epoch 7/100\n",
      "60000/60000 [==============================] - 2s 34us/step - loss: 0.1087 - val_loss: 0.1059\n",
      "Epoch 8/100\n",
      "60000/60000 [==============================] - 2s 34us/step - loss: 0.1060 - val_loss: 0.1037\n",
      "Epoch 9/100\n",
      "60000/60000 [==============================] - 2s 33us/step - loss: 0.1038 - val_loss: 0.1014\n",
      "Epoch 10/100\n",
      "60000/60000 [==============================] - 2s 37us/step - loss: 0.1016 - val_loss: 0.0998\n",
      "Epoch 11/100\n",
      "60000/60000 [==============================] - 2s 34us/step - loss: 0.0999 - val_loss: 0.0982\n",
      "Epoch 12/100\n",
      "60000/60000 [==============================] - 2s 34us/step - loss: 0.0986 - val_loss: 0.0966\n",
      "Epoch 13/100\n",
      "60000/60000 [==============================] - 2s 36us/step - loss: 0.0973 - val_loss: 0.0956\n",
      "Epoch 14/100\n",
      "60000/60000 [==============================] - 2s 39us/step - loss: 0.0961 - val_loss: 0.0945\n",
      "Epoch 15/100\n",
      "60000/60000 [==============================] - 2s 37us/step - loss: 0.0950 - val_loss: 0.0936\n",
      "Epoch 16/100\n",
      "60000/60000 [==============================] - 2s 39us/step - loss: 0.0940 - val_loss: 0.0931\n",
      "Epoch 17/100\n",
      "60000/60000 [==============================] - 2s 38us/step - loss: 0.0933 - val_loss: 0.0922\n",
      "Epoch 18/100\n",
      "60000/60000 [==============================] - 2s 38us/step - loss: 0.0928 - val_loss: 0.0916\n",
      "Epoch 19/100\n",
      "60000/60000 [==============================] - 2s 36us/step - loss: 0.0922 - val_loss: 0.0912\n",
      "Epoch 20/100\n",
      "60000/60000 [==============================] - 2s 34us/step - loss: 0.0917 - val_loss: 0.0906\n",
      "Epoch 21/100\n",
      "60000/60000 [==============================] - 2s 36us/step - loss: 0.0912 - val_loss: 0.0902\n",
      "Epoch 22/100\n",
      "60000/60000 [==============================] - 2s 38us/step - loss: 0.0909 - val_loss: 0.0901\n",
      "Epoch 23/100\n",
      "60000/60000 [==============================] - 2s 33us/step - loss: 0.0905 - val_loss: 0.0895\n",
      "Epoch 24/100\n",
      "60000/60000 [==============================] - 2s 34us/step - loss: 0.0901 - val_loss: 0.0896\n",
      "Epoch 25/100\n",
      "60000/60000 [==============================] - 2s 35us/step - loss: 0.0898 - val_loss: 0.0890\n",
      "Epoch 26/100\n",
      "60000/60000 [==============================] - 2s 35us/step - loss: 0.0894 - val_loss: 0.0885\n",
      "Epoch 27/100\n",
      "60000/60000 [==============================] - 2s 35us/step - loss: 0.0891 - val_loss: 0.0884\n",
      "Epoch 28/100\n",
      "60000/60000 [==============================] - 2s 32us/step - loss: 0.0888 - val_loss: 0.0882\n",
      "Epoch 29/100\n",
      "60000/60000 [==============================] - 2s 33us/step - loss: 0.0885 - val_loss: 0.0879\n",
      "Epoch 30/100\n",
      "60000/60000 [==============================] - 2s 32us/step - loss: 0.0882 - val_loss: 0.0875\n",
      "Epoch 31/100\n",
      "60000/60000 [==============================] - 2s 32us/step - loss: 0.0879 - val_loss: 0.0871\n",
      "Epoch 32/100\n",
      "60000/60000 [==============================] - 2s 32us/step - loss: 0.0876 - val_loss: 0.0870\n",
      "Epoch 33/100\n",
      "60000/60000 [==============================] - 2s 33us/step - loss: 0.0873 - val_loss: 0.0868\n",
      "Epoch 34/100\n",
      "60000/60000 [==============================] - 2s 35us/step - loss: 0.0870 - val_loss: 0.0864\n",
      "Epoch 35/100\n",
      "60000/60000 [==============================] - 2s 35us/step - loss: 0.0868 - val_loss: 0.0859\n",
      "Epoch 36/100\n",
      "60000/60000 [==============================] - 2s 34us/step - loss: 0.0865 - val_loss: 0.0858\n",
      "Epoch 37/100\n",
      "60000/60000 [==============================] - 2s 37us/step - loss: 0.0863 - val_loss: 0.0858\n",
      "Epoch 38/100\n",
      "60000/60000 [==============================] - 2s 37us/step - loss: 0.0861 - val_loss: 0.0855\n",
      "Epoch 39/100\n",
      "60000/60000 [==============================] - 2s 34us/step - loss: 0.0859 - val_loss: 0.0858\n",
      "Epoch 40/100\n",
      "60000/60000 [==============================] - 2s 34us/step - loss: 0.0858 - val_loss: 0.0854\n",
      "Epoch 41/100\n",
      "60000/60000 [==============================] - 2s 34us/step - loss: 0.0857 - val_loss: 0.0853\n",
      "Epoch 42/100\n",
      "60000/60000 [==============================] - 2s 36us/step - loss: 0.0855 - val_loss: 0.0855\n",
      "Epoch 43/100\n",
      "60000/60000 [==============================] - 2s 36us/step - loss: 0.0854 - val_loss: 0.0850\n",
      "Epoch 44/100\n",
      "60000/60000 [==============================] - 2s 35us/step - loss: 0.0852 - val_loss: 0.0852\n",
      "Epoch 45/100\n",
      "60000/60000 [==============================] - 2s 35us/step - loss: 0.0850 - val_loss: 0.0845\n",
      "Epoch 46/100\n",
      "60000/60000 [==============================] - 2s 35us/step - loss: 0.0849 - val_loss: 0.0844\n",
      "Epoch 47/100\n",
      "60000/60000 [==============================] - 2s 36us/step - loss: 0.0848 - val_loss: 0.0842\n",
      "Epoch 48/100\n",
      "60000/60000 [==============================] - 2s 35us/step - loss: 0.0847 - val_loss: 0.0843\n",
      "Epoch 49/100\n",
      "60000/60000 [==============================] - 2s 34us/step - loss: 0.0845 - val_loss: 0.0841\n",
      "Epoch 50/100\n",
      "60000/60000 [==============================] - 2s 35us/step - loss: 0.0843 - val_loss: 0.0840\n",
      "Epoch 51/100\n",
      "60000/60000 [==============================] - 2s 35us/step - loss: 0.0842 - val_loss: 0.0837\n",
      "Epoch 52/100\n",
      "60000/60000 [==============================] - 2s 35us/step - loss: 0.0840 - val_loss: 0.0836\n",
      "Epoch 53/100\n",
      "60000/60000 [==============================] - 2s 35us/step - loss: 0.0838 - val_loss: 0.0834\n",
      "Epoch 54/100\n",
      "60000/60000 [==============================] - 2s 35us/step - loss: 0.0837 - val_loss: 0.0832\n",
      "Epoch 55/100\n",
      "60000/60000 [==============================] - 2s 36us/step - loss: 0.0836 - val_loss: 0.0831\n",
      "Epoch 56/100\n",
      "60000/60000 [==============================] - 7s 111us/step - loss: 0.0834 - val_loss: 0.0834\n",
      "Epoch 57/100\n",
      "60000/60000 [==============================] - 3s 43us/step - loss: 0.0834 - val_loss: 0.0831\n",
      "Epoch 58/100\n",
      "60000/60000 [==============================] - 3s 45us/step - loss: 0.0832 - val_loss: 0.0828\n",
      "Epoch 59/100\n",
      "60000/60000 [==============================] - 2s 40us/step - loss: 0.0831 - val_loss: 0.0826\n",
      "Epoch 60/100\n",
      "60000/60000 [==============================] - 2s 39us/step - loss: 0.0830 - val_loss: 0.0825\n",
      "Epoch 61/100\n",
      "60000/60000 [==============================] - 2s 39us/step - loss: 0.0828 - val_loss: 0.0824\n",
      "Epoch 62/100\n",
      "60000/60000 [==============================] - 2s 38us/step - loss: 0.0828 - val_loss: 0.0827\n",
      "Epoch 63/100\n",
      "60000/60000 [==============================] - 2s 39us/step - loss: 0.0827 - val_loss: 0.0824\n",
      "Epoch 64/100\n",
      "60000/60000 [==============================] - 2s 41us/step - loss: 0.0826 - val_loss: 0.0822\n",
      "Epoch 65/100\n",
      "60000/60000 [==============================] - 3s 42us/step - loss: 0.0825 - val_loss: 0.0822\n",
      "Epoch 66/100\n",
      "60000/60000 [==============================] - 3s 43us/step - loss: 0.0824 - val_loss: 0.0822\n",
      "Epoch 67/100\n",
      "60000/60000 [==============================] - 2s 41us/step - loss: 0.0823 - val_loss: 0.0820\n",
      "Epoch 68/100\n",
      "60000/60000 [==============================] - 3s 42us/step - loss: 0.0823 - val_loss: 0.0819\n",
      "Epoch 69/100\n",
      "60000/60000 [==============================] - 2s 41us/step - loss: 0.0822 - val_loss: 0.0821\n",
      "Epoch 70/100\n",
      "60000/60000 [==============================] - 2s 41us/step - loss: 0.0822 - val_loss: 0.0820\n",
      "Epoch 71/100\n",
      "60000/60000 [==============================] - 2s 41us/step - loss: 0.0821 - val_loss: 0.0817\n",
      "Epoch 72/100\n",
      "60000/60000 [==============================] - 2s 40us/step - loss: 0.0820 - val_loss: 0.0814\n",
      "Epoch 73/100\n",
      "60000/60000 [==============================] - 2s 39us/step - loss: 0.0820 - val_loss: 0.0818\n",
      "Epoch 74/100\n",
      "60000/60000 [==============================] - 2s 41us/step - loss: 0.0819 - val_loss: 0.0817\n",
      "Epoch 75/100\n",
      "60000/60000 [==============================] - 2s 40us/step - loss: 0.0818 - val_loss: 0.0817\n",
      "Epoch 76/100\n",
      "60000/60000 [==============================] - 2s 39us/step - loss: 0.0818 - val_loss: 0.0818\n",
      "Epoch 77/100\n",
      "60000/60000 [==============================] - 2s 38us/step - loss: 0.0818 - val_loss: 0.0816\n",
      "Epoch 78/100\n",
      "60000/60000 [==============================] - 2s 38us/step - loss: 0.0817 - val_loss: 0.0815\n",
      "Epoch 79/100\n",
      "60000/60000 [==============================] - 2s 37us/step - loss: 0.0816 - val_loss: 0.0816\n",
      "Epoch 80/100\n",
      "60000/60000 [==============================] - 2s 37us/step - loss: 0.0816 - val_loss: 0.0815\n",
      "Epoch 81/100\n",
      "60000/60000 [==============================] - 2s 37us/step - loss: 0.0815 - val_loss: 0.0815\n",
      "Epoch 82/100\n",
      "60000/60000 [==============================] - 2s 37us/step - loss: 0.0815 - val_loss: 0.0811\n",
      "Epoch 83/100\n",
      "60000/60000 [==============================] - 2s 36us/step - loss: 0.0815 - val_loss: 0.0813\n",
      "Epoch 84/100\n",
      "60000/60000 [==============================] - 2s 34us/step - loss: 0.0815 - val_loss: 0.0814\n",
      "Epoch 85/100\n",
      "60000/60000 [==============================] - 2s 34us/step - loss: 0.0814 - val_loss: 0.0812\n",
      "Epoch 86/100\n",
      "60000/60000 [==============================] - 2s 34us/step - loss: 0.0814 - val_loss: 0.0813\n",
      "Epoch 87/100\n",
      "60000/60000 [==============================] - 2s 36us/step - loss: 0.0813 - val_loss: 0.0811\n",
      "Epoch 88/100\n",
      "60000/60000 [==============================] - 2s 35us/step - loss: 0.0813 - val_loss: 0.0815\n",
      "Epoch 89/100\n",
      "60000/60000 [==============================] - 2s 34us/step - loss: 0.0813 - val_loss: 0.0809\n",
      "Epoch 90/100\n",
      "60000/60000 [==============================] - 2s 34us/step - loss: 0.0812 - val_loss: 0.0812\n",
      "Epoch 91/100\n",
      "60000/60000 [==============================] - 2s 33us/step - loss: 0.0812 - val_loss: 0.0811\n",
      "Epoch 92/100\n",
      "60000/60000 [==============================] - 2s 34us/step - loss: 0.0812 - val_loss: 0.0813\n",
      "Epoch 93/100\n",
      "60000/60000 [==============================] - 2s 34us/step - loss: 0.0811 - val_loss: 0.0812\n",
      "Epoch 94/100\n",
      "60000/60000 [==============================] - 2s 34us/step - loss: 0.0811 - val_loss: 0.0809\n",
      "Epoch 95/100\n",
      "60000/60000 [==============================] - 2s 34us/step - loss: 0.0810 - val_loss: 0.0811\n",
      "Epoch 96/100\n",
      "60000/60000 [==============================] - 2s 35us/step - loss: 0.0810 - val_loss: 0.0808\n",
      "Epoch 97/100\n",
      "60000/60000 [==============================] - 2s 36us/step - loss: 0.0810 - val_loss: 0.0810\n",
      "Epoch 98/100\n",
      "60000/60000 [==============================] - 2s 36us/step - loss: 0.0810 - val_loss: 0.0809\n",
      "Epoch 99/100\n",
      "60000/60000 [==============================] - 2s 35us/step - loss: 0.0810 - val_loss: 0.0808\n",
      "Epoch 100/100\n",
      "60000/60000 [==============================] - 2s 33us/step - loss: 0.0809 - val_loss: 0.0808\n"
     ]
    },
    {
     "data": {
      "text/plain": [
       "<keras.callbacks.History at 0x7f851dae6400>"
      ]
     },
     "execution_count": 14,
     "metadata": {},
     "output_type": "execute_result"
    }
   ],
   "source": [
    "autoencoder = keras.Model(input_img, decoded)\n",
    "autoencoder.compile(optimizer='adam', loss='binary_crossentropy')\n",
    "\n",
    "autoencoder.fit(x_train, x_train,\n",
    "                epochs=100,\n",
    "                batch_size=256,\n",
    "                shuffle=True,\n",
    "                validation_data=(x_test, x_test))"
   ]
  },
  {
   "cell_type": "code",
   "execution_count": null,
   "metadata": {},
   "outputs": [],
   "source": []
  },
  {
   "cell_type": "code",
   "execution_count": null,
   "metadata": {},
   "outputs": [],
   "source": []
  }
 ],
 "metadata": {
  "kernelspec": {
   "display_name": "Python 3",
   "language": "python",
   "name": "python3"
  },
  "language_info": {
   "codemirror_mode": {
    "name": "ipython",
    "version": 3
   },
   "file_extension": ".py",
   "mimetype": "text/x-python",
   "name": "python",
   "nbconvert_exporter": "python",
   "pygments_lexer": "ipython3",
   "version": "3.6.8"
  }
 },
 "nbformat": 4,
 "nbformat_minor": 2
}
