{
 "cells": [
  {
   "cell_type": "markdown",
   "metadata": {},
   "source": [
    "## This is the Sentiment Analysis for Amazon Reviews of the products listed on Amazon. The reviews are entered by actual customers. The review has attributes like stars, the actual text entered, we are generating Sentiment Polarity Score basis the data."
   ]
  },
  {
   "cell_type": "code",
   "execution_count": 84,
   "metadata": {},
   "outputs": [],
   "source": [
    "#### Loading all the required libraries here\n",
    "from lxml import html  \n",
    "import requests\n",
    "import pandas as pd\n",
    "from nltk.corpus import stopwords\n",
    "from textblob import TextBlob\n",
    "import matplotlib.pyplot as plt"
   ]
  },
  {
   "cell_type": "code",
   "execution_count": 6,
   "metadata": {},
   "outputs": [],
   "source": [
    "import sys\n",
    "import numpy as np\n",
    "import pandas as pd\n",
    "import matplotlib\n",
    "import matplotlib.pyplot as plt\n",
    "import sklearn\n",
    "import scikitplot as skplt\n",
    "import nltk\n",
    "#to ignore warnings\n",
    "import warnings\n",
    "warnings.filterwarnings(\"ignore\")"
   ]
  },
  {
   "cell_type": "markdown",
   "metadata": {},
   "source": [
    "#### Download all the stopwords package here"
   ]
  },
  {
   "cell_type": "code",
   "execution_count": 7,
   "metadata": {},
   "outputs": [
    {
     "name": "stderr",
     "output_type": "stream",
     "text": [
      "[nltk_data] Downloading package stopwords to\n",
      "[nltk_data]     /Users/vaibhavverdhan/nltk_data...\n",
      "[nltk_data]   Package stopwords is already up-to-date!\n"
     ]
    },
    {
     "data": {
      "text/plain": [
       "True"
      ]
     },
     "execution_count": 7,
     "metadata": {},
     "output_type": "execute_result"
    }
   ],
   "source": [
    "nltk.download('stopwords')"
   ]
  },
  {
   "cell_type": "code",
   "execution_count": 8,
   "metadata": {},
   "outputs": [
    {
     "name": "stderr",
     "output_type": "stream",
     "text": [
      "[nltk_data] Downloading package punkt to\n",
      "[nltk_data]     /Users/vaibhavverdhan/nltk_data...\n",
      "[nltk_data]   Package punkt is already up-to-date!\n"
     ]
    },
    {
     "data": {
      "text/plain": [
       "True"
      ]
     },
     "execution_count": 8,
     "metadata": {},
     "output_type": "execute_result"
    }
   ],
   "source": [
    "nltk.download('punkt')"
   ]
  },
  {
   "cell_type": "code",
   "execution_count": 9,
   "metadata": {},
   "outputs": [
    {
     "name": "stderr",
     "output_type": "stream",
     "text": [
      "[nltk_data] Downloading package wordnet to\n",
      "[nltk_data]     /Users/vaibhavverdhan/nltk_data...\n",
      "[nltk_data]   Package wordnet is already up-to-date!\n"
     ]
    },
    {
     "data": {
      "text/plain": [
       "True"
      ]
     },
     "execution_count": 9,
     "metadata": {},
     "output_type": "execute_result"
    }
   ],
   "source": [
    "nltk.download('wordnet')"
   ]
  },
  {
   "cell_type": "code",
   "execution_count": 10,
   "metadata": {},
   "outputs": [],
   "source": [
    "xpath_reviews = '//div[@data-hook=\"review\"]'\n",
    "reviews = parser.xpath(xpath_reviews)"
   ]
  },
  {
   "cell_type": "code",
   "execution_count": 11,
   "metadata": {},
   "outputs": [],
   "source": [
    "xpath_rating  = './/i[@data-hook=\"review-star-rating\"]//text()' \n",
    "xpath_title   = './/a[@data-hook=\"review-title\"]//text()'\n",
    "xpath_author  = './/a[@data-hook=\"review-author\"]//text()'\n",
    "xpath_date    = './/span[@data-hook=\"review-date\"]//text()'\n",
    "xpath_body    = './/span[@data-hook=\"review-body\"]//text()'\n",
    "xpath_helpful = './/span[@data-hook=\"helpful-vote-statement\"]//text()'"
   ]
  },
  {
   "cell_type": "code",
   "execution_count": 12,
   "metadata": {},
   "outputs": [],
   "source": [
    "# Create a dataframe here. \n",
    "\n",
    "reviews_df = pd.DataFrame()\n",
    "for review in reviews:\n",
    "    rating  = review.xpath(xpath_rating)\n",
    "    title   = review.xpath(xpath_title)\n",
    "    author  = review.xpath(xpath_author)\n",
    "    date    = review.xpath(xpath_date)\n",
    "    body    = review.xpath(xpath_body)\n",
    "    helpful = review.xpath(xpath_helpful)\n",
    "\n",
    "    review_dict = {'rating': rating,\n",
    "                   'title': title,\n",
    "                   'author': author,             \n",
    "                   'date': date,\n",
    "                   'body': body,\n",
    "                   'helpful': helpful}\n",
    "    reviews_df = reviews_df.append(review_dict, ignore_index=True)"
   ]
  },
  {
   "cell_type": "code",
   "execution_count": 14,
   "metadata": {},
   "outputs": [],
   "source": [
    "all_reviews = pd.DataFrame()"
   ]
  },
  {
   "cell_type": "code",
   "execution_count": 15,
   "metadata": {},
   "outputs": [],
   "source": [
    "# Fill the values of the reviews here. . \n",
    "\n",
    "for i in range(1,90):\n",
    "    amazon_url = 'https://www.amazon.co.uk/Hive-Heating-Thermostat-Professional-Installation/product-reviews/B011B3J6KY/ref=cm_cr_othr_d_show_all?ie=UTF8&reviewerType=all_reviews&pageNumber='+str(i)\n",
    "    headers = {'User-Agent': user_agent}\n",
    "    page = requests.get(amazon_url, headers = headers)\n",
    "    parser = html.fromstring(page.content)\n",
    "    xpath_reviews = '//div[@data-hook=\"review\"]'\n",
    "    reviews = parser.xpath(xpath_reviews)\n",
    "    reviews_df = pd.DataFrame()\n",
    "    xpath_rating  = './/i[@data-hook=\"review-star-rating\"]//text()' \n",
    "    xpath_title   = './/a[@data-hook=\"review-title\"]//text()'\n",
    "    xpath_author  = './/a[@data-hook=\"review-author\"]//text()'\n",
    "    xpath_date    = './/span[@data-hook=\"review-date\"]//text()'\n",
    "    xpath_body    = './/span[@data-hook=\"review-body\"]//text()'\n",
    "    xpath_helpful = './/span[@data-hook=\"helpful-vote-statement\"]//text()'\n",
    "    #print(i)\n",
    "    for review in reviews:\n",
    "        rating  = review.xpath(xpath_rating)\n",
    "        title   = review.xpath(xpath_title)\n",
    "        author  = review.xpath(xpath_author)\n",
    "        date    = review.xpath(xpath_date)\n",
    "        body    = review.xpath(xpath_body)\n",
    "        helpful = review.xpath(xpath_helpful)\n",
    "\n",
    "        review_dict = {'rating': rating,\n",
    "                       'title': title,\n",
    "                       'author': author,             \n",
    "                       'date': date,\n",
    "                       'body': body,\n",
    "                       'helpful': helpful}\n",
    "        reviews_df = reviews_df.append(review_dict, ignore_index=True)\n",
    "    #print(reviews_df)\n",
    "    all_reviews = all_reviews.append(reviews_df)\n",
    "    \n"
   ]
  },
  {
   "cell_type": "code",
   "execution_count": 16,
   "metadata": {},
   "outputs": [
    {
     "data": {
      "text/html": [
       "<div>\n",
       "<style scoped>\n",
       "    .dataframe tbody tr th:only-of-type {\n",
       "        vertical-align: middle;\n",
       "    }\n",
       "\n",
       "    .dataframe tbody tr th {\n",
       "        vertical-align: top;\n",
       "    }\n",
       "\n",
       "    .dataframe thead th {\n",
       "        text-align: right;\n",
       "    }\n",
       "</style>\n",
       "<table border=\"1\" class=\"dataframe\">\n",
       "  <thead>\n",
       "    <tr style=\"text-align: right;\">\n",
       "      <th></th>\n",
       "      <th>author</th>\n",
       "      <th>body</th>\n",
       "      <th>date</th>\n",
       "      <th>helpful</th>\n",
       "      <th>rating</th>\n",
       "      <th>title</th>\n",
       "    </tr>\n",
       "  </thead>\n",
       "  <tbody>\n",
       "    <tr>\n",
       "      <th>0</th>\n",
       "      <td>[]</td>\n",
       "      <td>[\\n\\n\\n\\n\\n\\n\\n\\n\\n\\n  \\n  \\n    , \\n  So I al...</td>\n",
       "      <td>[Reviewed in the United Kingdom on 3 September...</td>\n",
       "      <td>[2 people found this helpful]</td>\n",
       "      <td>[5.0 out of 5 stars]</td>\n",
       "      <td>[\\n\\n\\n\\n\\n\\n\\n\\n  \\n  \\n    , Great for those...</td>\n",
       "    </tr>\n",
       "    <tr>\n",
       "      <th>1</th>\n",
       "      <td>[]</td>\n",
       "      <td>[\\n\\n\\n\\n\\n\\n\\n\\n\\n\\n  \\n  \\n    , \\n  I can’t...</td>\n",
       "      <td>[Reviewed in the United Kingdom on 7 December ...</td>\n",
       "      <td>[]</td>\n",
       "      <td>[4.0 out of 5 stars]</td>\n",
       "      <td>[\\n\\n\\n\\n\\n\\n\\n\\n  \\n  \\n    , Great system, \\...</td>\n",
       "    </tr>\n",
       "    <tr>\n",
       "      <th>2</th>\n",
       "      <td>[]</td>\n",
       "      <td>[\\n\\n\\n\\n\\n\\n\\n\\n\\n\\n  \\n  \\n    , \\n  I’ve ne...</td>\n",
       "      <td>[Reviewed in the United Kingdom on 10 January ...</td>\n",
       "      <td>[One person found this helpful]</td>\n",
       "      <td>[5.0 out of 5 stars]</td>\n",
       "      <td>[\\n\\n\\n\\n\\n\\n\\n\\n  \\n  \\n    , Easy to fit if ...</td>\n",
       "    </tr>\n",
       "    <tr>\n",
       "      <th>3</th>\n",
       "      <td>[]</td>\n",
       "      <td>[\\n\\n\\n\\n\\n\\n\\n\\n\\n\\n  \\n  \\n    , \\n  I have ...</td>\n",
       "      <td>[Reviewed in the United Kingdom on 2 December ...</td>\n",
       "      <td>[]</td>\n",
       "      <td>[5.0 out of 5 stars]</td>\n",
       "      <td>[\\n\\n\\n\\n\\n\\n\\n\\n  \\n  \\n    , Installation is...</td>\n",
       "    </tr>\n",
       "    <tr>\n",
       "      <th>4</th>\n",
       "      <td>[]</td>\n",
       "      <td>[\\n\\n\\n\\n\\n\\n\\n\\n\\n\\n  \\n  \\n    , \\n  Brought...</td>\n",
       "      <td>[Reviewed in the United Kingdom on 13 August 2...</td>\n",
       "      <td>[6 people found this helpful]</td>\n",
       "      <td>[4.0 out of 5 stars]</td>\n",
       "      <td>[\\n\\n\\n\\n\\n\\n\\n\\n  \\n  \\n    , Looks the part,...</td>\n",
       "    </tr>\n",
       "  </tbody>\n",
       "</table>\n",
       "</div>"
      ],
      "text/plain": [
       "  author                                               body  \\\n",
       "0     []  [\\n\\n\\n\\n\\n\\n\\n\\n\\n\\n  \\n  \\n    , \\n  So I al...   \n",
       "1     []  [\\n\\n\\n\\n\\n\\n\\n\\n\\n\\n  \\n  \\n    , \\n  I can’t...   \n",
       "2     []  [\\n\\n\\n\\n\\n\\n\\n\\n\\n\\n  \\n  \\n    , \\n  I’ve ne...   \n",
       "3     []  [\\n\\n\\n\\n\\n\\n\\n\\n\\n\\n  \\n  \\n    , \\n  I have ...   \n",
       "4     []  [\\n\\n\\n\\n\\n\\n\\n\\n\\n\\n  \\n  \\n    , \\n  Brought...   \n",
       "\n",
       "                                                date  \\\n",
       "0  [Reviewed in the United Kingdom on 3 September...   \n",
       "1  [Reviewed in the United Kingdom on 7 December ...   \n",
       "2  [Reviewed in the United Kingdom on 10 January ...   \n",
       "3  [Reviewed in the United Kingdom on 2 December ...   \n",
       "4  [Reviewed in the United Kingdom on 13 August 2...   \n",
       "\n",
       "                           helpful                rating  \\\n",
       "0    [2 people found this helpful]  [5.0 out of 5 stars]   \n",
       "1                               []  [4.0 out of 5 stars]   \n",
       "2  [One person found this helpful]  [5.0 out of 5 stars]   \n",
       "3                               []  [5.0 out of 5 stars]   \n",
       "4    [6 people found this helpful]  [4.0 out of 5 stars]   \n",
       "\n",
       "                                               title  \n",
       "0  [\\n\\n\\n\\n\\n\\n\\n\\n  \\n  \\n    , Great for those...  \n",
       "1  [\\n\\n\\n\\n\\n\\n\\n\\n  \\n  \\n    , Great system, \\...  \n",
       "2  [\\n\\n\\n\\n\\n\\n\\n\\n  \\n  \\n    , Easy to fit if ...  \n",
       "3  [\\n\\n\\n\\n\\n\\n\\n\\n  \\n  \\n    , Installation is...  \n",
       "4  [\\n\\n\\n\\n\\n\\n\\n\\n  \\n  \\n    , Looks the part,...  "
      ]
     },
     "execution_count": 16,
     "metadata": {},
     "output_type": "execute_result"
    }
   ],
   "source": [
    "all_reviews.head()"
   ]
  },
  {
   "cell_type": "code",
   "execution_count": null,
   "metadata": {},
   "outputs": [],
   "source": []
  },
  {
   "cell_type": "markdown",
   "metadata": {},
   "source": [
    "#### Define a path here"
   ]
  },
  {
   "cell_type": "code",
   "execution_count": 18,
   "metadata": {},
   "outputs": [],
   "source": [
    "out_folder = '/Users/vaibhavverdhan/Book/UnsupervisedLearningBookFinal/'"
   ]
  },
  {
   "cell_type": "markdown",
   "metadata": {},
   "source": [
    "#### Save the reviews locally"
   ]
  },
  {
   "cell_type": "code",
   "execution_count": 19,
   "metadata": {},
   "outputs": [],
   "source": [
    "all_reviews.to_csv(out_folder + 'Reviews.csv')"
   ]
  },
  {
   "cell_type": "markdown",
   "metadata": {},
   "source": [
    "#### Load the data and start the analysis"
   ]
  },
  {
   "cell_type": "code",
   "execution_count": 20,
   "metadata": {},
   "outputs": [],
   "source": [
    "#Load the data now and analyse it\n",
    "data_path = '/Users/vaibhavverdhan/Book/UnsupervisedLearningBookFinal/'\n",
    "reviewDataCSV = 'Reviews.csv'\n",
    "reviewData = (pd.read_csv(data_path+reviewDataCSV,index_col=0,))"
   ]
  },
  {
   "cell_type": "code",
   "execution_count": 21,
   "metadata": {},
   "outputs": [
    {
     "data": {
      "text/plain": [
       "(167, 6)"
      ]
     },
     "execution_count": 21,
     "metadata": {},
     "output_type": "execute_result"
    }
   ],
   "source": [
    "reviewData.shape"
   ]
  },
  {
   "cell_type": "code",
   "execution_count": 22,
   "metadata": {},
   "outputs": [
    {
     "data": {
      "text/plain": [
       "array([\"['5.0 out of 5 stars']\", \"['4.0 out of 5 stars']\",\n",
       "       \"['2.0 out of 5 stars']\", \"['1.0 out of 5 stars']\",\n",
       "       \"['3.0 out of 5 stars']\"], dtype=object)"
      ]
     },
     "execution_count": 22,
     "metadata": {},
     "output_type": "execute_result"
    }
   ],
   "source": [
    "reviewData.rating.unique()"
   ]
  },
  {
   "cell_type": "code",
   "execution_count": 23,
   "metadata": {},
   "outputs": [
    {
     "data": {
      "text/plain": [
       "['5.0 out of 5 stars']    123\n",
       "['1.0 out of 5 stars']     24\n",
       "['4.0 out of 5 stars']     12\n",
       "['2.0 out of 5 stars']      6\n",
       "['3.0 out of 5 stars']      2\n",
       "Name: rating, dtype: int64"
      ]
     },
     "execution_count": 23,
     "metadata": {},
     "output_type": "execute_result"
    }
   ],
   "source": [
    "reviewData.rating.value_counts()"
   ]
  },
  {
   "cell_type": "code",
   "execution_count": 24,
   "metadata": {},
   "outputs": [
    {
     "data": {
      "text/plain": [
       "24"
      ]
     },
     "execution_count": 24,
     "metadata": {},
     "output_type": "execute_result"
    }
   ],
   "source": [
    "reviewData.rating.value_counts()[1]"
   ]
  },
  {
   "cell_type": "code",
   "execution_count": 25,
   "metadata": {},
   "outputs": [
    {
     "data": {
      "text/plain": [
       "\"['5.0 out of 5 stars']\""
      ]
     },
     "execution_count": 25,
     "metadata": {},
     "output_type": "execute_result"
    }
   ],
   "source": [
    "reviewData.rating.unique()[0]"
   ]
  },
  {
   "cell_type": "code",
   "execution_count": 26,
   "metadata": {},
   "outputs": [
    {
     "data": {
      "image/png": "[encoded data removed]",
      "text/plain": [
       "<Figure size 432x288 with 1 Axes>"
      ]
     },
     "metadata": {},
     "output_type": "display_data"
    }
   ],
   "source": [
    "\n",
    "labels = '5 Stars', '1 Star', '4 Stars', '3 Stars', '2 Stars'\n",
    "sizes = [reviewData.rating.value_counts()[0], reviewData.rating.value_counts()[1],reviewData.rating.value_counts()[2],reviewData.rating.value_counts()[3],reviewData.rating.value_counts()[4]]\n",
    "colors = ['green', 'yellowgreen', 'coral', 'lightblue', 'grey']\n",
    "explode = (0, 0, 0, 0, 0)  # explode 1st slice\n",
    " \n",
    "# Plot\n",
    "plt.pie(sizes, explode=explode, labels=labels, colors=colors,\n",
    "        autopct='%1.1f%%', shadow=True, startangle=140)\n",
    " \n",
    "plt.axis('equal')\n",
    "plt.show()"
   ]
  },
  {
   "cell_type": "code",
   "execution_count": 27,
   "metadata": {},
   "outputs": [
    {
     "data": {
      "text/plain": [
       "0    ['\\n\\n\\n\\n\\n\\n\\n\\n\\n\\n  \\n  \\n    ', '\\n  So I...\n",
       "1    ['\\n\\n\\n\\n\\n\\n\\n\\n\\n\\n  \\n  \\n    ', '\\n  I ca...\n",
       "2    ['\\n\\n\\n\\n\\n\\n\\n\\n\\n\\n  \\n  \\n    ', '\\n  I’ve...\n",
       "3    ['\\n\\n\\n\\n\\n\\n\\n\\n\\n\\n  \\n  \\n    ', \"\\n  I ha...\n",
       "4    ['\\n\\n\\n\\n\\n\\n\\n\\n\\n\\n  \\n  \\n    ', '\\n  Brou...\n",
       "Name: body, dtype: object"
      ]
     },
     "execution_count": 27,
     "metadata": {},
     "output_type": "execute_result"
    }
   ],
   "source": [
    "reviewData.body.head()"
   ]
  },
  {
   "cell_type": "code",
   "execution_count": 28,
   "metadata": {},
   "outputs": [
    {
     "data": {
      "text/plain": [
       "\"['Reviewed in the United Kingdom on 9 March 2021']\""
      ]
     },
     "execution_count": 28,
     "metadata": {},
     "output_type": "execute_result"
    }
   ],
   "source": [
    "# the latest review\n",
    "max(reviewData.date)"
   ]
  },
  {
   "cell_type": "code",
   "execution_count": 29,
   "metadata": {},
   "outputs": [
    {
     "data": {
      "text/plain": [
       "\"['Reviewed in the United Kingdom on 1 February 2020']\""
      ]
     },
     "execution_count": 29,
     "metadata": {},
     "output_type": "execute_result"
    }
   ],
   "source": [
    "# the oldest review\n",
    "min(reviewData.date)"
   ]
  },
  {
   "cell_type": "markdown",
   "metadata": {},
   "source": [
    "## The Text Analytics Starts"
   ]
  },
  {
   "cell_type": "markdown",
   "metadata": {},
   "source": [
    "##### Calculate the number of words in each review"
   ]
  },
  {
   "cell_type": "code",
   "execution_count": 30,
   "metadata": {},
   "outputs": [],
   "source": [
    "reviewsBodyWordCount = reviewData.body.apply(lambda x: len(str(x).split(\" \")))"
   ]
  },
  {
   "cell_type": "code",
   "execution_count": 31,
   "metadata": {},
   "outputs": [
    {
     "data": {
      "text/plain": [
       "9    585\n",
       "9    566\n",
       "6    542\n",
       "7    509\n",
       "3    381\n",
       "    ... \n",
       "7     16\n",
       "5     16\n",
       "0     16\n",
       "1     15\n",
       "2     15\n",
       "Name: body, Length: 167, dtype: int64"
      ]
     },
     "execution_count": 31,
     "metadata": {},
     "output_type": "execute_result"
    }
   ],
   "source": [
    "reviewsBodyWordCount.sort_values(ascending= False)"
   ]
  },
  {
   "cell_type": "code",
   "execution_count": 32,
   "metadata": {},
   "outputs": [
    {
     "data": {
      "text/plain": [
       "9    585\n",
       "9    566\n",
       "6    542\n",
       "7    509\n",
       "3    381\n",
       "Name: body, dtype: int64"
      ]
     },
     "execution_count": 32,
     "metadata": {},
     "output_type": "execute_result"
    }
   ],
   "source": [
    "reviewsBodyWordCount.nlargest(n=5, keep='first')"
   ]
  },
  {
   "cell_type": "code",
   "execution_count": 33,
   "metadata": {},
   "outputs": [
    {
     "data": {
      "text/plain": [
       "1    15\n",
       "2    15\n",
       "1    16\n",
       "7    16\n",
       "9    16\n",
       "Name: body, dtype: int64"
      ]
     },
     "execution_count": 33,
     "metadata": {},
     "output_type": "execute_result"
    }
   ],
   "source": [
    "reviewsBodyWordCount.nsmallest(n=5, keep='first')"
   ]
  },
  {
   "cell_type": "markdown",
   "metadata": {},
   "source": [
    "##### Calculate the number of characters in each review"
   ]
  },
  {
   "cell_type": "code",
   "execution_count": 34,
   "metadata": {},
   "outputs": [],
   "source": [
    "reviewsBodyCharCount = reviewData.body.str.len() ## this also includes spaces"
   ]
  },
  {
   "cell_type": "code",
   "execution_count": 35,
   "metadata": {},
   "outputs": [
    {
     "data": {
      "text/plain": [
       "9    3145\n",
       "6    2989\n",
       "9    2957\n",
       "7    2762\n",
       "3    2095\n",
       "Name: body, dtype: int64"
      ]
     },
     "execution_count": 35,
     "metadata": {},
     "output_type": "execute_result"
    }
   ],
   "source": [
    "reviewsBodyCharCount.nlargest(n=5, keep='first')"
   ]
  },
  {
   "cell_type": "code",
   "execution_count": 36,
   "metadata": {},
   "outputs": [
    {
     "data": {
      "text/plain": [
       "5    62\n",
       "1    64\n",
       "7    65\n",
       "2    65\n",
       "2    67\n",
       "Name: body, dtype: int64"
      ]
     },
     "execution_count": 36,
     "metadata": {},
     "output_type": "execute_result"
    }
   ],
   "source": [
    "reviewsBodyCharCount.nsmallest(n=5, keep='first')"
   ]
  },
  {
   "cell_type": "markdown",
   "metadata": {},
   "source": [
    "## Pre-processing starts"
   ]
  },
  {
   "cell_type": "markdown",
   "metadata": {},
   "source": [
    "#### Convert all the words to lower case"
   ]
  },
  {
   "cell_type": "code",
   "execution_count": 37,
   "metadata": {},
   "outputs": [
    {
     "data": {
      "text/plain": [
       "pandas.core.strings.StringMethods"
      ]
     },
     "execution_count": 37,
     "metadata": {},
     "output_type": "execute_result"
    }
   ],
   "source": [
    "type(reviewData.body.str)"
   ]
  },
  {
   "cell_type": "code",
   "execution_count": 38,
   "metadata": {},
   "outputs": [
    {
     "data": {
      "text/html": [
       "<div>\n",
       "<style scoped>\n",
       "    .dataframe tbody tr th:only-of-type {\n",
       "        vertical-align: middle;\n",
       "    }\n",
       "\n",
       "    .dataframe tbody tr th {\n",
       "        vertical-align: top;\n",
       "    }\n",
       "\n",
       "    .dataframe thead th {\n",
       "        text-align: right;\n",
       "    }\n",
       "</style>\n",
       "<table border=\"1\" class=\"dataframe\">\n",
       "  <thead>\n",
       "    <tr style=\"text-align: right;\">\n",
       "      <th></th>\n",
       "      <th>author</th>\n",
       "      <th>body</th>\n",
       "      <th>date</th>\n",
       "      <th>helpful</th>\n",
       "      <th>rating</th>\n",
       "      <th>title</th>\n",
       "    </tr>\n",
       "  </thead>\n",
       "  <tbody>\n",
       "    <tr>\n",
       "      <th>0</th>\n",
       "      <td>[]</td>\n",
       "      <td>['\\n\\n\\n\\n\\n\\n\\n\\n\\n\\n  \\n  \\n    ', '\\n  So I...</td>\n",
       "      <td>['Reviewed in the United Kingdom on 3 Septembe...</td>\n",
       "      <td>['2 people found this helpful']</td>\n",
       "      <td>['5.0 out of 5 stars']</td>\n",
       "      <td>['\\n\\n\\n\\n\\n\\n\\n\\n  \\n  \\n    ', 'Great for th...</td>\n",
       "    </tr>\n",
       "    <tr>\n",
       "      <th>1</th>\n",
       "      <td>[]</td>\n",
       "      <td>['\\n\\n\\n\\n\\n\\n\\n\\n\\n\\n  \\n  \\n    ', '\\n  I ca...</td>\n",
       "      <td>['Reviewed in the United Kingdom on 7 December...</td>\n",
       "      <td>[]</td>\n",
       "      <td>['4.0 out of 5 stars']</td>\n",
       "      <td>['\\n\\n\\n\\n\\n\\n\\n\\n  \\n  \\n    ', 'Great system...</td>\n",
       "    </tr>\n",
       "    <tr>\n",
       "      <th>2</th>\n",
       "      <td>[]</td>\n",
       "      <td>['\\n\\n\\n\\n\\n\\n\\n\\n\\n\\n  \\n  \\n    ', '\\n  I’ve...</td>\n",
       "      <td>['Reviewed in the United Kingdom on 10 January...</td>\n",
       "      <td>['One person found this helpful']</td>\n",
       "      <td>['5.0 out of 5 stars']</td>\n",
       "      <td>['\\n\\n\\n\\n\\n\\n\\n\\n  \\n  \\n    ', 'Easy to fit ...</td>\n",
       "    </tr>\n",
       "    <tr>\n",
       "      <th>3</th>\n",
       "      <td>[]</td>\n",
       "      <td>['\\n\\n\\n\\n\\n\\n\\n\\n\\n\\n  \\n  \\n    ', \"\\n  I ha...</td>\n",
       "      <td>['Reviewed in the United Kingdom on 2 December...</td>\n",
       "      <td>[]</td>\n",
       "      <td>['5.0 out of 5 stars']</td>\n",
       "      <td>['\\n\\n\\n\\n\\n\\n\\n\\n  \\n  \\n    ', 'Installation...</td>\n",
       "    </tr>\n",
       "    <tr>\n",
       "      <th>4</th>\n",
       "      <td>[]</td>\n",
       "      <td>['\\n\\n\\n\\n\\n\\n\\n\\n\\n\\n  \\n  \\n    ', '\\n  Brou...</td>\n",
       "      <td>['Reviewed in the United Kingdom on 13 August ...</td>\n",
       "      <td>['6 people found this helpful']</td>\n",
       "      <td>['4.0 out of 5 stars']</td>\n",
       "      <td>['\\n\\n\\n\\n\\n\\n\\n\\n  \\n  \\n    ', 'Looks the pa...</td>\n",
       "    </tr>\n",
       "  </tbody>\n",
       "</table>\n",
       "</div>"
      ],
      "text/plain": [
       "  author                                               body  \\\n",
       "0     []  ['\\n\\n\\n\\n\\n\\n\\n\\n\\n\\n  \\n  \\n    ', '\\n  So I...   \n",
       "1     []  ['\\n\\n\\n\\n\\n\\n\\n\\n\\n\\n  \\n  \\n    ', '\\n  I ca...   \n",
       "2     []  ['\\n\\n\\n\\n\\n\\n\\n\\n\\n\\n  \\n  \\n    ', '\\n  I’ve...   \n",
       "3     []  ['\\n\\n\\n\\n\\n\\n\\n\\n\\n\\n  \\n  \\n    ', \"\\n  I ha...   \n",
       "4     []  ['\\n\\n\\n\\n\\n\\n\\n\\n\\n\\n  \\n  \\n    ', '\\n  Brou...   \n",
       "\n",
       "                                                date  \\\n",
       "0  ['Reviewed in the United Kingdom on 3 Septembe...   \n",
       "1  ['Reviewed in the United Kingdom on 7 December...   \n",
       "2  ['Reviewed in the United Kingdom on 10 January...   \n",
       "3  ['Reviewed in the United Kingdom on 2 December...   \n",
       "4  ['Reviewed in the United Kingdom on 13 August ...   \n",
       "\n",
       "                             helpful                  rating  \\\n",
       "0    ['2 people found this helpful']  ['5.0 out of 5 stars']   \n",
       "1                                 []  ['4.0 out of 5 stars']   \n",
       "2  ['One person found this helpful']  ['5.0 out of 5 stars']   \n",
       "3                                 []  ['5.0 out of 5 stars']   \n",
       "4    ['6 people found this helpful']  ['4.0 out of 5 stars']   \n",
       "\n",
       "                                               title  \n",
       "0  ['\\n\\n\\n\\n\\n\\n\\n\\n  \\n  \\n    ', 'Great for th...  \n",
       "1  ['\\n\\n\\n\\n\\n\\n\\n\\n  \\n  \\n    ', 'Great system...  \n",
       "2  ['\\n\\n\\n\\n\\n\\n\\n\\n  \\n  \\n    ', 'Easy to fit ...  \n",
       "3  ['\\n\\n\\n\\n\\n\\n\\n\\n  \\n  \\n    ', 'Installation...  \n",
       "4  ['\\n\\n\\n\\n\\n\\n\\n\\n  \\n  \\n    ', 'Looks the pa...  "
      ]
     },
     "execution_count": 38,
     "metadata": {},
     "output_type": "execute_result"
    }
   ],
   "source": [
    "reviewData.head()"
   ]
  },
  {
   "cell_type": "code",
   "execution_count": 39,
   "metadata": {},
   "outputs": [],
   "source": [
    "reviewData.body = reviewData.body.str.lower()"
   ]
  },
  {
   "cell_type": "code",
   "execution_count": 40,
   "metadata": {},
   "outputs": [
    {
     "data": {
      "text/html": [
       "<div>\n",
       "<style scoped>\n",
       "    .dataframe tbody tr th:only-of-type {\n",
       "        vertical-align: middle;\n",
       "    }\n",
       "\n",
       "    .dataframe tbody tr th {\n",
       "        vertical-align: top;\n",
       "    }\n",
       "\n",
       "    .dataframe thead th {\n",
       "        text-align: right;\n",
       "    }\n",
       "</style>\n",
       "<table border=\"1\" class=\"dataframe\">\n",
       "  <thead>\n",
       "    <tr style=\"text-align: right;\">\n",
       "      <th></th>\n",
       "      <th>author</th>\n",
       "      <th>body</th>\n",
       "      <th>date</th>\n",
       "      <th>helpful</th>\n",
       "      <th>rating</th>\n",
       "      <th>title</th>\n",
       "    </tr>\n",
       "  </thead>\n",
       "  <tbody>\n",
       "    <tr>\n",
       "      <th>0</th>\n",
       "      <td>[]</td>\n",
       "      <td>['\\n\\n\\n\\n\\n\\n\\n\\n\\n\\n  \\n  \\n    ', '\\n  so i...</td>\n",
       "      <td>['Reviewed in the United Kingdom on 3 Septembe...</td>\n",
       "      <td>['2 people found this helpful']</td>\n",
       "      <td>['5.0 out of 5 stars']</td>\n",
       "      <td>['\\n\\n\\n\\n\\n\\n\\n\\n  \\n  \\n    ', 'Great for th...</td>\n",
       "    </tr>\n",
       "    <tr>\n",
       "      <th>1</th>\n",
       "      <td>[]</td>\n",
       "      <td>['\\n\\n\\n\\n\\n\\n\\n\\n\\n\\n  \\n  \\n    ', '\\n  i ca...</td>\n",
       "      <td>['Reviewed in the United Kingdom on 7 December...</td>\n",
       "      <td>[]</td>\n",
       "      <td>['4.0 out of 5 stars']</td>\n",
       "      <td>['\\n\\n\\n\\n\\n\\n\\n\\n  \\n  \\n    ', 'Great system...</td>\n",
       "    </tr>\n",
       "    <tr>\n",
       "      <th>2</th>\n",
       "      <td>[]</td>\n",
       "      <td>['\\n\\n\\n\\n\\n\\n\\n\\n\\n\\n  \\n  \\n    ', '\\n  i’ve...</td>\n",
       "      <td>['Reviewed in the United Kingdom on 10 January...</td>\n",
       "      <td>['One person found this helpful']</td>\n",
       "      <td>['5.0 out of 5 stars']</td>\n",
       "      <td>['\\n\\n\\n\\n\\n\\n\\n\\n  \\n  \\n    ', 'Easy to fit ...</td>\n",
       "    </tr>\n",
       "    <tr>\n",
       "      <th>3</th>\n",
       "      <td>[]</td>\n",
       "      <td>['\\n\\n\\n\\n\\n\\n\\n\\n\\n\\n  \\n  \\n    ', \"\\n  i ha...</td>\n",
       "      <td>['Reviewed in the United Kingdom on 2 December...</td>\n",
       "      <td>[]</td>\n",
       "      <td>['5.0 out of 5 stars']</td>\n",
       "      <td>['\\n\\n\\n\\n\\n\\n\\n\\n  \\n  \\n    ', 'Installation...</td>\n",
       "    </tr>\n",
       "    <tr>\n",
       "      <th>4</th>\n",
       "      <td>[]</td>\n",
       "      <td>['\\n\\n\\n\\n\\n\\n\\n\\n\\n\\n  \\n  \\n    ', '\\n  brou...</td>\n",
       "      <td>['Reviewed in the United Kingdom on 13 August ...</td>\n",
       "      <td>['6 people found this helpful']</td>\n",
       "      <td>['4.0 out of 5 stars']</td>\n",
       "      <td>['\\n\\n\\n\\n\\n\\n\\n\\n  \\n  \\n    ', 'Looks the pa...</td>\n",
       "    </tr>\n",
       "  </tbody>\n",
       "</table>\n",
       "</div>"
      ],
      "text/plain": [
       "  author                                               body  \\\n",
       "0     []  ['\\n\\n\\n\\n\\n\\n\\n\\n\\n\\n  \\n  \\n    ', '\\n  so i...   \n",
       "1     []  ['\\n\\n\\n\\n\\n\\n\\n\\n\\n\\n  \\n  \\n    ', '\\n  i ca...   \n",
       "2     []  ['\\n\\n\\n\\n\\n\\n\\n\\n\\n\\n  \\n  \\n    ', '\\n  i’ve...   \n",
       "3     []  ['\\n\\n\\n\\n\\n\\n\\n\\n\\n\\n  \\n  \\n    ', \"\\n  i ha...   \n",
       "4     []  ['\\n\\n\\n\\n\\n\\n\\n\\n\\n\\n  \\n  \\n    ', '\\n  brou...   \n",
       "\n",
       "                                                date  \\\n",
       "0  ['Reviewed in the United Kingdom on 3 Septembe...   \n",
       "1  ['Reviewed in the United Kingdom on 7 December...   \n",
       "2  ['Reviewed in the United Kingdom on 10 January...   \n",
       "3  ['Reviewed in the United Kingdom on 2 December...   \n",
       "4  ['Reviewed in the United Kingdom on 13 August ...   \n",
       "\n",
       "                             helpful                  rating  \\\n",
       "0    ['2 people found this helpful']  ['5.0 out of 5 stars']   \n",
       "1                                 []  ['4.0 out of 5 stars']   \n",
       "2  ['One person found this helpful']  ['5.0 out of 5 stars']   \n",
       "3                                 []  ['5.0 out of 5 stars']   \n",
       "4    ['6 people found this helpful']  ['4.0 out of 5 stars']   \n",
       "\n",
       "                                               title  \n",
       "0  ['\\n\\n\\n\\n\\n\\n\\n\\n  \\n  \\n    ', 'Great for th...  \n",
       "1  ['\\n\\n\\n\\n\\n\\n\\n\\n  \\n  \\n    ', 'Great system...  \n",
       "2  ['\\n\\n\\n\\n\\n\\n\\n\\n  \\n  \\n    ', 'Easy to fit ...  \n",
       "3  ['\\n\\n\\n\\n\\n\\n\\n\\n  \\n  \\n    ', 'Installation...  \n",
       "4  ['\\n\\n\\n\\n\\n\\n\\n\\n  \\n  \\n    ', 'Looks the pa...  "
      ]
     },
     "execution_count": 40,
     "metadata": {},
     "output_type": "execute_result"
    }
   ],
   "source": [
    "# all the body reviews are converted to lowercase\n",
    "reviewData.head()"
   ]
  },
  {
   "cell_type": "markdown",
   "metadata": {},
   "source": [
    "#### Remove the punctuations"
   ]
  },
  {
   "cell_type": "code",
   "execution_count": 41,
   "metadata": {},
   "outputs": [],
   "source": [
    "reviewData.body = reviewData.body.str.replace('[^\\w\\s]','')"
   ]
  },
  {
   "cell_type": "markdown",
   "metadata": {},
   "source": [
    "#### Remove the Stop Words, which are the commonly occuring words like the, a, an, is etc."
   ]
  },
  {
   "cell_type": "code",
   "execution_count": 42,
   "metadata": {},
   "outputs": [],
   "source": [
    "stop = stopwords.words('english')"
   ]
  },
  {
   "cell_type": "code",
   "execution_count": 43,
   "metadata": {},
   "outputs": [],
   "source": [
    "reviewData.body = reviewData.body.apply(lambda x: \" \".join(x for x in x.split() if x not in stop))"
   ]
  },
  {
   "cell_type": "code",
   "execution_count": 44,
   "metadata": {},
   "outputs": [
    {
     "data": {
      "text/plain": [
       "0    nnnnnnnnnn n n n already phillips hue bulbs ar...\n",
       "1    nnnnnnnnnn n n n cant comment installation pai...\n",
       "2    nnnnnnnnnn n n n ive never fitted one healthy ...\n",
       "3    nnnnnnnnnn n n n combi boiler internetenabled ...\n",
       "4    nnnnnnnnnn n n n brought prime day sale got 95...\n",
       "Name: body, dtype: object"
      ]
     },
     "execution_count": 44,
     "metadata": {},
     "output_type": "execute_result"
    }
   ],
   "source": [
    "reviewData.body.head()"
   ]
  },
  {
   "cell_type": "markdown",
   "metadata": {},
   "source": [
    "##### These are the most comonly occuring words in our corpus. Depending on the requirement, we may remove or keep them. We are removing them here"
   ]
  },
  {
   "cell_type": "code",
   "execution_count": 45,
   "metadata": {},
   "outputs": [],
   "source": [
    "freq = pd.Series(' '.join(reviewData.body).split()).value_counts()[:20]"
   ]
  },
  {
   "cell_type": "code",
   "execution_count": 46,
   "metadata": {},
   "outputs": [
    {
     "data": {
      "text/plain": [
       "n             843\n",
       "nnnnnnnnnn    167\n",
       "hive          102\n",
       "heating        89\n",
       "thermostat     80\n",
       "easy           78\n",
       "boiler         56\n",
       "install        53\n",
       "get            50\n",
       "use            48\n",
       "set            45\n",
       "app            45\n",
       "home           37\n",
       "works          36\n",
       "would          36\n",
       "control        35\n",
       "one            34\n",
       "great          33\n",
       "really         33\n",
       "hub            32\n",
       "dtype: int64"
      ]
     },
     "execution_count": 46,
     "metadata": {},
     "output_type": "execute_result"
    }
   ],
   "source": [
    "freq"
   ]
  },
  {
   "cell_type": "code",
   "execution_count": 47,
   "metadata": {},
   "outputs": [],
   "source": [
    "freq = list(freq.index)\n",
    "reviewData.body = reviewData.body.apply(lambda x: \" \".join(x for x in x.split() if x not in freq))"
   ]
  },
  {
   "cell_type": "code",
   "execution_count": 48,
   "metadata": {},
   "outputs": [
    {
     "data": {
      "text/plain": [
       "0    already phillips hue bulbs around house big fa...\n",
       "1    cant comment installation paid local trader pr...\n",
       "2    ive never fitted healthy interest everything d...\n",
       "3    combi internetenabled 1 doesnt features upgrad...\n",
       "4    brought prime day sale got 95 fitted quite str...\n",
       "Name: body, dtype: object"
      ]
     },
     "execution_count": 48,
     "metadata": {},
     "output_type": "execute_result"
    }
   ],
   "source": [
    "reviewData.body.head()"
   ]
  },
  {
   "cell_type": "markdown",
   "metadata": {},
   "source": [
    "##### Lets see which are the rare words, we are removing them"
   ]
  },
  {
   "cell_type": "code",
   "execution_count": 49,
   "metadata": {},
   "outputs": [],
   "source": [
    "freq = pd.Series(' '.join(reviewData.body).split()).value_counts()[-10:]"
   ]
  },
  {
   "cell_type": "code",
   "execution_count": 50,
   "metadata": {},
   "outputs": [
    {
     "data": {
      "text/plain": [
       "attention       1\n",
       "anybody         1\n",
       "informationn    1\n",
       "activates       1\n",
       "aspect          1\n",
       "easytouse       1\n",
       "chat            1\n",
       "possible        1\n",
       "confusing       1\n",
       "270             1\n",
       "dtype: int64"
      ]
     },
     "execution_count": 50,
     "metadata": {},
     "output_type": "execute_result"
    }
   ],
   "source": [
    "freq"
   ]
  },
  {
   "cell_type": "code",
   "execution_count": 51,
   "metadata": {},
   "outputs": [],
   "source": [
    "freq = list(freq.index)\n",
    "reviewData.body = reviewData.body.apply(lambda x: \" \".join(x for x in x.split() if x not in freq))"
   ]
  },
  {
   "cell_type": "markdown",
   "metadata": {},
   "source": [
    "#### Tokentization of reviews"
   ]
  },
  {
   "cell_type": "code",
   "execution_count": 52,
   "metadata": {},
   "outputs": [],
   "source": [
    "from nltk.tokenize import word_tokenize"
   ]
  },
  {
   "cell_type": "code",
   "execution_count": 53,
   "metadata": {},
   "outputs": [
    {
     "name": "stdout",
     "output_type": "stream",
     "text": [
      "['cant', 'comment', 'installation', 'paid', 'local', 'trader', 'problems', 'using', 'system', 'think', 'brilliant', 'ive', 'major', 'issue', 'small', 'thing', 'schedule', 'next', 'morning', 'certain', 'time', 'didnt', 'come', 'planned', 'flawlessly', 'alexa', 'im', 'little', 'disappointed', 'screen', 'goes', 'seconds', 'save', 'battery', 'power', 'touch', 'see', 'temperature', 'check', 'overall', 'though', 'im', 'pleased', 'system', 'using', 'two', 'weeks', 'time', 'tell']\n"
     ]
    }
   ],
   "source": [
    "tokens = word_tokenize(reviewData.iloc[1,1])\n",
    "print(tokens)"
   ]
  },
  {
   "cell_type": "code",
   "execution_count": 54,
   "metadata": {},
   "outputs": [
    {
     "data": {
      "text/plain": [
       "'cant comment installation paid local trader problems using system think brilliant ive major issue small thing schedule next morning certain time didnt come planned flawlessly alexa im little disappointed screen goes seconds save battery power touch see temperature check overall though im pleased system using two weeks time tell'"
      ]
     },
     "execution_count": 54,
     "metadata": {},
     "output_type": "execute_result"
    }
   ],
   "source": [
    "reviewData.iloc[1,1]"
   ]
  },
  {
   "cell_type": "markdown",
   "metadata": {},
   "source": [
    "#### Doing Stemming, currenlty commented since we are preferring Lemit"
   ]
  },
  {
   "cell_type": "code",
   "execution_count": 239,
   "metadata": {},
   "outputs": [
    {
     "data": {
      "text/plain": [
       "0    replac old 80 slide timer clock graviti fed st...\n",
       "1    purchas model opt self bit research onlin manu...\n",
       "2    purchas although reason savvi electr peer time...\n",
       "3    instal black fridaycyb monday offer kit ship e...\n",
       "4    love bought new combi realli best thing ive ev...\n",
       "Name: body, dtype: object"
      ]
     },
     "execution_count": 239,
     "metadata": {},
     "output_type": "execute_result"
    }
   ],
   "source": [
    "#from nltk.stem import PorterStemmer\n",
    "#st = PorterStemmer()\n",
    "#reviewData.body[:5].apply(lambda x: \" \".join([st.stem(word) for word in x.split()]))"
   ]
  },
  {
   "cell_type": "markdown",
   "metadata": {},
   "source": [
    "#### Doing Lemmatization"
   ]
  },
  {
   "cell_type": "code",
   "execution_count": 55,
   "metadata": {},
   "outputs": [
    {
     "data": {
      "text/plain": [
       "0    already phillips hue bulb around house big fan...\n",
       "1    cant comment installation paid local trader pr...\n",
       "2    ive never fitted healthy interest everything d...\n",
       "3    combi internetenabled 1 doesnt feature upgradi...\n",
       "4    brought prime day sale got 95 fitted quite str...\n",
       "Name: body, dtype: object"
      ]
     },
     "execution_count": 55,
     "metadata": {},
     "output_type": "execute_result"
    }
   ],
   "source": [
    "from textblob import Word\n",
    "reviewData.body = reviewData.body.apply(lambda x: \" \".join([Word(word).lemmatize() for word in x.split()]))\n",
    "reviewData.body.head()"
   ]
  },
  {
   "cell_type": "code",
   "execution_count": 58,
   "metadata": {},
   "outputs": [],
   "source": [
    "sentimentString = reviewData.iloc[1,1]"
   ]
  },
  {
   "cell_type": "code",
   "execution_count": 59,
   "metadata": {},
   "outputs": [],
   "source": [
    "# append to this string \n",
    "for i in range(2,len(reviewData)):\n",
    "    sentimentString = sentimentString + reviewData.iloc[i,1]"
   ]
  },
  {
   "cell_type": "markdown",
   "metadata": {},
   "source": [
    "#### This is the Sentiment Analysis "
   ]
  },
  {
   "cell_type": "code",
   "execution_count": 61,
   "metadata": {},
   "outputs": [],
   "source": [
    "# the functions generates polarity and subjectivity here, subsetting the polarity only here\n",
    "allReviewsSentiment = reviewData.body[:900].apply(lambda x: TextBlob(x).sentiment[0])"
   ]
  },
  {
   "cell_type": "code",
   "execution_count": 62,
   "metadata": {},
   "outputs": [],
   "source": [
    "# this contains boths subjectivity and polarity\n",
    "allReviewsSentimentComplete = reviewData.body[:900].apply(lambda x: TextBlob(x).sentiment)"
   ]
  },
  {
   "cell_type": "code",
   "execution_count": 63,
   "metadata": {},
   "outputs": [
    {
     "data": {
      "text/plain": [
       "0    (0.06315192743764173, 0.5116213151927438)\n",
       "1    (0.12410714285714286, 0.4767857142857143)\n",
       "2    (0.23928571428571432, 0.6821428571428572)\n",
       "3    (0.07947781385281384, 0.3274756493506493)\n",
       "4                  (0.04999999999999997, 0.45)\n",
       "Name: body, dtype: object"
      ]
     },
     "execution_count": 63,
     "metadata": {},
     "output_type": "execute_result"
    }
   ],
   "source": [
    "allReviewsSentimentComplete.head()"
   ]
  },
  {
   "cell_type": "code",
   "execution_count": 64,
   "metadata": {},
   "outputs": [],
   "source": [
    "allReviewsSentiment.to_csv(out_folder + 'ReviewsSentiment.csv')"
   ]
  },
  {
   "cell_type": "code",
   "execution_count": null,
   "metadata": {},
   "outputs": [],
   "source": [
    "## get the respective counts for all the reviews\n",
    "# if the polarity is above 0.75 Very Satisfied\n",
    "# if the polarity is between 0.5-0.74 Satisfied\n",
    "# if the polarity is between 0.2-0.5 Nice\n",
    "# if the polarity is between -0.2 to 0.2 Neutral\n",
    "# if the polarity is between -0.2 to -0.5 Dissatisfied\n",
    "# if the polarity is between -0.5 to -0.74 Very Dissatisfied\n",
    "# if the polarity is less than -0.75 Extremely Dissatisfied\n"
   ]
  },
  {
   "cell_type": "code",
   "execution_count": 65,
   "metadata": {},
   "outputs": [],
   "source": [
    "allReviewsSentimentDF = allReviewsSentiment.to_frame()"
   ]
  },
  {
   "cell_type": "code",
   "execution_count": 66,
   "metadata": {},
   "outputs": [
    {
     "data": {
      "text/html": [
       "<div>\n",
       "<style scoped>\n",
       "    .dataframe tbody tr th:only-of-type {\n",
       "        vertical-align: middle;\n",
       "    }\n",
       "\n",
       "    .dataframe tbody tr th {\n",
       "        vertical-align: top;\n",
       "    }\n",
       "\n",
       "    .dataframe thead th {\n",
       "        text-align: right;\n",
       "    }\n",
       "</style>\n",
       "<table border=\"1\" class=\"dataframe\">\n",
       "  <thead>\n",
       "    <tr style=\"text-align: right;\">\n",
       "      <th></th>\n",
       "      <th>body</th>\n",
       "    </tr>\n",
       "  </thead>\n",
       "  <tbody>\n",
       "    <tr>\n",
       "      <th>0</th>\n",
       "      <td>0.063152</td>\n",
       "    </tr>\n",
       "    <tr>\n",
       "      <th>1</th>\n",
       "      <td>0.124107</td>\n",
       "    </tr>\n",
       "    <tr>\n",
       "      <th>2</th>\n",
       "      <td>0.239286</td>\n",
       "    </tr>\n",
       "    <tr>\n",
       "      <th>3</th>\n",
       "      <td>0.079478</td>\n",
       "    </tr>\n",
       "    <tr>\n",
       "      <th>4</th>\n",
       "      <td>0.050000</td>\n",
       "    </tr>\n",
       "  </tbody>\n",
       "</table>\n",
       "</div>"
      ],
      "text/plain": [
       "       body\n",
       "0  0.063152\n",
       "1  0.124107\n",
       "2  0.239286\n",
       "3  0.079478\n",
       "4  0.050000"
      ]
     },
     "execution_count": 66,
     "metadata": {},
     "output_type": "execute_result"
    }
   ],
   "source": [
    "allReviewsSentimentDF.head()"
   ]
  },
  {
   "cell_type": "code",
   "execution_count": 67,
   "metadata": {},
   "outputs": [],
   "source": [
    "# Create a list to store the data\n",
    "grades = []\n",
    "\n",
    "# For each row in the column,\n",
    "for row in allReviewsSentimentDF['body']:\n",
    "    # if more than a value,\n",
    "    if row >= 0.75:\n",
    "       grades.append('Extremely Satisfied')\n",
    "    elif (row >= 0.5) & (row < 0.75):\n",
    "        grades.append('Satisfied')\n",
    "    elif (row >= 0.2) & (row < 0.5):\n",
    "        grades.append('Nice')\n",
    "    elif (row >= -0.2) & (row < 0.2):\n",
    "        grades.append('Neutral')\n",
    "    elif (row > -0.5) & (row <= -0.2):\n",
    "        grades.append('Bad')\n",
    "    elif (row >= -0.75) & (row < -0.5):\n",
    "        grades.append('Dis-satisfied')\n",
    "    elif  row < -0.75:\n",
    "        grades.append('Extremely Dis-satisfied')\n",
    "    else:\n",
    "        # Append a failing grade\n",
    "        grades.append('No Sentiment')\n",
    "        \n",
    "# Create a column from the list\n",
    "allReviewsSentimentDF['SentimentScore'] = grades"
   ]
  },
  {
   "cell_type": "code",
   "execution_count": 68,
   "metadata": {},
   "outputs": [
    {
     "data": {
      "text/html": [
       "<div>\n",
       "<style scoped>\n",
       "    .dataframe tbody tr th:only-of-type {\n",
       "        vertical-align: middle;\n",
       "    }\n",
       "\n",
       "    .dataframe tbody tr th {\n",
       "        vertical-align: top;\n",
       "    }\n",
       "\n",
       "    .dataframe thead th {\n",
       "        text-align: right;\n",
       "    }\n",
       "</style>\n",
       "<table border=\"1\" class=\"dataframe\">\n",
       "  <thead>\n",
       "    <tr style=\"text-align: right;\">\n",
       "      <th></th>\n",
       "      <th>body</th>\n",
       "      <th>SentimentScore</th>\n",
       "    </tr>\n",
       "  </thead>\n",
       "  <tbody>\n",
       "    <tr>\n",
       "      <th>0</th>\n",
       "      <td>0.063152</td>\n",
       "      <td>Neutral</td>\n",
       "    </tr>\n",
       "    <tr>\n",
       "      <th>1</th>\n",
       "      <td>0.124107</td>\n",
       "      <td>Neutral</td>\n",
       "    </tr>\n",
       "    <tr>\n",
       "      <th>2</th>\n",
       "      <td>0.239286</td>\n",
       "      <td>Nice</td>\n",
       "    </tr>\n",
       "    <tr>\n",
       "      <th>3</th>\n",
       "      <td>0.079478</td>\n",
       "      <td>Neutral</td>\n",
       "    </tr>\n",
       "    <tr>\n",
       "      <th>4</th>\n",
       "      <td>0.050000</td>\n",
       "      <td>Neutral</td>\n",
       "    </tr>\n",
       "  </tbody>\n",
       "</table>\n",
       "</div>"
      ],
      "text/plain": [
       "       body SentimentScore\n",
       "0  0.063152        Neutral\n",
       "1  0.124107        Neutral\n",
       "2  0.239286           Nice\n",
       "3  0.079478        Neutral\n",
       "4  0.050000        Neutral"
      ]
     },
     "execution_count": 68,
     "metadata": {},
     "output_type": "execute_result"
    }
   ],
   "source": [
    "allReviewsSentimentDF.head()"
   ]
  },
  {
   "cell_type": "code",
   "execution_count": 69,
   "metadata": {},
   "outputs": [
    {
     "data": {
      "text/plain": [
       "Neutral                93\n",
       "Nice                   43\n",
       "Satisfied              19\n",
       "Extremely Satisfied     9\n",
       "Bad                     2\n",
       "Dis-satisfied           1\n",
       "Name: SentimentScore, dtype: int64"
      ]
     },
     "execution_count": 69,
     "metadata": {},
     "output_type": "execute_result"
    }
   ],
   "source": [
    "allReviewsSentimentDF.SentimentScore.value_counts()"
   ]
  },
  {
   "cell_type": "code",
   "execution_count": 70,
   "metadata": {},
   "outputs": [
    {
     "data": {
      "text/plain": [
       "pandas.core.series.Series"
      ]
     },
     "execution_count": 70,
     "metadata": {},
     "output_type": "execute_result"
    }
   ],
   "source": [
    "type(allReviewsSentimentDF.SentimentScore)"
   ]
  },
  {
   "cell_type": "code",
   "execution_count": 71,
   "metadata": {},
   "outputs": [
    {
     "data": {
      "text/plain": [
       "<AxesSubplot:>"
      ]
     },
     "execution_count": 71,
     "metadata": {},
     "output_type": "execute_result"
    },
    {
     "data": {
      "image/png": "[encoded data removed]",
      "text/plain": [
       "<Figure size 432x288 with 1 Axes>"
      ]
     },
     "metadata": {
      "needs_background": "light"
     },
     "output_type": "display_data"
    }
   ],
   "source": [
    "allReviewsSentimentDF['SentimentScore'].value_counts().plot(kind='bar')"
   ]
  },
  {
   "cell_type": "code",
   "execution_count": 72,
   "metadata": {},
   "outputs": [
    {
     "data": {
      "text/html": [
       "<div>\n",
       "<style scoped>\n",
       "    .dataframe tbody tr th:only-of-type {\n",
       "        vertical-align: middle;\n",
       "    }\n",
       "\n",
       "    .dataframe tbody tr th {\n",
       "        vertical-align: top;\n",
       "    }\n",
       "\n",
       "    .dataframe thead th {\n",
       "        text-align: right;\n",
       "    }\n",
       "</style>\n",
       "<table border=\"1\" class=\"dataframe\">\n",
       "  <thead>\n",
       "    <tr style=\"text-align: right;\">\n",
       "      <th></th>\n",
       "      <th>author</th>\n",
       "      <th>body</th>\n",
       "      <th>date</th>\n",
       "      <th>helpful</th>\n",
       "      <th>rating</th>\n",
       "      <th>title</th>\n",
       "    </tr>\n",
       "  </thead>\n",
       "  <tbody>\n",
       "    <tr>\n",
       "      <th>0</th>\n",
       "      <td>[]</td>\n",
       "      <td>already phillips hue bulb around house big fan...</td>\n",
       "      <td>['Reviewed in the United Kingdom on 3 Septembe...</td>\n",
       "      <td>['2 people found this helpful']</td>\n",
       "      <td>['5.0 out of 5 stars']</td>\n",
       "      <td>['\\n\\n\\n\\n\\n\\n\\n\\n  \\n  \\n    ', 'Great for th...</td>\n",
       "    </tr>\n",
       "    <tr>\n",
       "      <th>1</th>\n",
       "      <td>[]</td>\n",
       "      <td>cant comment installation paid local trader pr...</td>\n",
       "      <td>['Reviewed in the United Kingdom on 7 December...</td>\n",
       "      <td>[]</td>\n",
       "      <td>['4.0 out of 5 stars']</td>\n",
       "      <td>['\\n\\n\\n\\n\\n\\n\\n\\n  \\n  \\n    ', 'Great system...</td>\n",
       "    </tr>\n",
       "    <tr>\n",
       "      <th>2</th>\n",
       "      <td>[]</td>\n",
       "      <td>ive never fitted healthy interest everything d...</td>\n",
       "      <td>['Reviewed in the United Kingdom on 10 January...</td>\n",
       "      <td>['One person found this helpful']</td>\n",
       "      <td>['5.0 out of 5 stars']</td>\n",
       "      <td>['\\n\\n\\n\\n\\n\\n\\n\\n  \\n  \\n    ', 'Easy to fit ...</td>\n",
       "    </tr>\n",
       "    <tr>\n",
       "      <th>3</th>\n",
       "      <td>[]</td>\n",
       "      <td>combi internetenabled 1 doesnt feature upgradi...</td>\n",
       "      <td>['Reviewed in the United Kingdom on 2 December...</td>\n",
       "      <td>[]</td>\n",
       "      <td>['5.0 out of 5 stars']</td>\n",
       "      <td>['\\n\\n\\n\\n\\n\\n\\n\\n  \\n  \\n    ', 'Installation...</td>\n",
       "    </tr>\n",
       "    <tr>\n",
       "      <th>4</th>\n",
       "      <td>[]</td>\n",
       "      <td>brought prime day sale got 95 fitted quite str...</td>\n",
       "      <td>['Reviewed in the United Kingdom on 13 August ...</td>\n",
       "      <td>['6 people found this helpful']</td>\n",
       "      <td>['4.0 out of 5 stars']</td>\n",
       "      <td>['\\n\\n\\n\\n\\n\\n\\n\\n  \\n  \\n    ', 'Looks the pa...</td>\n",
       "    </tr>\n",
       "  </tbody>\n",
       "</table>\n",
       "</div>"
      ],
      "text/plain": [
       "  author                                               body  \\\n",
       "0     []  already phillips hue bulb around house big fan...   \n",
       "1     []  cant comment installation paid local trader pr...   \n",
       "2     []  ive never fitted healthy interest everything d...   \n",
       "3     []  combi internetenabled 1 doesnt feature upgradi...   \n",
       "4     []  brought prime day sale got 95 fitted quite str...   \n",
       "\n",
       "                                                date  \\\n",
       "0  ['Reviewed in the United Kingdom on 3 Septembe...   \n",
       "1  ['Reviewed in the United Kingdom on 7 December...   \n",
       "2  ['Reviewed in the United Kingdom on 10 January...   \n",
       "3  ['Reviewed in the United Kingdom on 2 December...   \n",
       "4  ['Reviewed in the United Kingdom on 13 August ...   \n",
       "\n",
       "                             helpful                  rating  \\\n",
       "0    ['2 people found this helpful']  ['5.0 out of 5 stars']   \n",
       "1                                 []  ['4.0 out of 5 stars']   \n",
       "2  ['One person found this helpful']  ['5.0 out of 5 stars']   \n",
       "3                                 []  ['5.0 out of 5 stars']   \n",
       "4    ['6 people found this helpful']  ['4.0 out of 5 stars']   \n",
       "\n",
       "                                               title  \n",
       "0  ['\\n\\n\\n\\n\\n\\n\\n\\n  \\n  \\n    ', 'Great for th...  \n",
       "1  ['\\n\\n\\n\\n\\n\\n\\n\\n  \\n  \\n    ', 'Great system...  \n",
       "2  ['\\n\\n\\n\\n\\n\\n\\n\\n  \\n  \\n    ', 'Easy to fit ...  \n",
       "3  ['\\n\\n\\n\\n\\n\\n\\n\\n  \\n  \\n    ', 'Installation...  \n",
       "4  ['\\n\\n\\n\\n\\n\\n\\n\\n  \\n  \\n    ', 'Looks the pa...  "
      ]
     },
     "execution_count": 72,
     "metadata": {},
     "output_type": "execute_result"
    }
   ],
   "source": [
    "reviewData.head()"
   ]
  },
  {
   "cell_type": "code",
   "execution_count": 73,
   "metadata": {},
   "outputs": [
    {
     "data": {
      "text/plain": [
       "167"
      ]
     },
     "execution_count": 73,
     "metadata": {},
     "output_type": "execute_result"
    }
   ],
   "source": [
    "len(reviewData)"
   ]
  },
  {
   "cell_type": "code",
   "execution_count": 74,
   "metadata": {},
   "outputs": [],
   "source": [
    "#### Merge the review data with Sentiment generated\n",
    "\n",
    "# add column Polarity Score\n",
    "reviewData['polarityScore'] = allReviewsSentimentDF['body']\n",
    "\n"
   ]
  },
  {
   "cell_type": "code",
   "execution_count": 210,
   "metadata": {},
   "outputs": [
    {
     "data": {
      "text/html": [
       "<div>\n",
       "<style scoped>\n",
       "    .dataframe tbody tr th:only-of-type {\n",
       "        vertical-align: middle;\n",
       "    }\n",
       "\n",
       "    .dataframe tbody tr th {\n",
       "        vertical-align: top;\n",
       "    }\n",
       "\n",
       "    .dataframe thead th {\n",
       "        text-align: right;\n",
       "    }\n",
       "</style>\n",
       "<table border=\"1\" class=\"dataframe\">\n",
       "  <thead>\n",
       "    <tr style=\"text-align: right;\">\n",
       "      <th></th>\n",
       "      <th>author</th>\n",
       "      <th>body</th>\n",
       "      <th>date</th>\n",
       "      <th>helpful</th>\n",
       "      <th>rating</th>\n",
       "      <th>title</th>\n",
       "      <th>polarityScore</th>\n",
       "    </tr>\n",
       "  </thead>\n",
       "  <tbody>\n",
       "    <tr>\n",
       "      <th>0</th>\n",
       "      <td>['Rob A.']</td>\n",
       "      <td>replaced old 80 slide timer clock gravity fed ...</td>\n",
       "      <td>['on 16 January 2018']</td>\n",
       "      <td>['115 people found this helpful']</td>\n",
       "      <td>['5.0 out of 5 stars']</td>\n",
       "      <td>['Really useful, and sort of cool!']</td>\n",
       "      <td>0.347917</td>\n",
       "    </tr>\n",
       "    <tr>\n",
       "      <th>1</th>\n",
       "      <td>['S. Newton']</td>\n",
       "      <td>combi water tank unit arrived within couple da...</td>\n",
       "      <td>['on 26 December 2017']</td>\n",
       "      <td>['3 people found this helpful']</td>\n",
       "      <td>['4.0 out of 5 stars']</td>\n",
       "      <td>['Works fine with Alexa. Dubious about claimed...</td>\n",
       "      <td>0.247222</td>\n",
       "    </tr>\n",
       "    <tr>\n",
       "      <th>2</th>\n",
       "      <td>['JC']</td>\n",
       "      <td>bough together multizone phoned came installed...</td>\n",
       "      <td>['on 15 July 2017']</td>\n",
       "      <td>['3 people found this helpful']</td>\n",
       "      <td>['5.0 out of 5 stars']</td>\n",
       "      <td>['Have been perfectly happy with the installat...</td>\n",
       "      <td>0.266667</td>\n",
       "    </tr>\n",
       "    <tr>\n",
       "      <th>3</th>\n",
       "      <td>['Fionn']</td>\n",
       "      <td>delighted setup bought without ireland also bo...</td>\n",
       "      <td>['on 6 February 2017']</td>\n",
       "      <td>['One person found this helpful']</td>\n",
       "      <td>['5.0 out of 5 stars']</td>\n",
       "      <td>['Slick Simple Functionality']</td>\n",
       "      <td>0.235771</td>\n",
       "    </tr>\n",
       "    <tr>\n",
       "      <th>4</th>\n",
       "      <td>['Nemesis']</td>\n",
       "      <td>previously purchased drayton wiser wireless tr...</td>\n",
       "      <td>['on 5 March 2018']</td>\n",
       "      <td>[]</td>\n",
       "      <td>['5.0 out of 5 stars']</td>\n",
       "      <td>['Simple, elegant and just works.']</td>\n",
       "      <td>0.064484</td>\n",
       "    </tr>\n",
       "  </tbody>\n",
       "</table>\n",
       "</div>"
      ],
      "text/plain": [
       "          author                                               body  \\\n",
       "0     ['Rob A.']  replaced old 80 slide timer clock gravity fed ...   \n",
       "1  ['S. Newton']  combi water tank unit arrived within couple da...   \n",
       "2         ['JC']  bough together multizone phoned came installed...   \n",
       "3      ['Fionn']  delighted setup bought without ireland also bo...   \n",
       "4    ['Nemesis']  previously purchased drayton wiser wireless tr...   \n",
       "\n",
       "                      date                            helpful  \\\n",
       "0   ['on 16 January 2018']  ['115 people found this helpful']   \n",
       "1  ['on 26 December 2017']    ['3 people found this helpful']   \n",
       "2      ['on 15 July 2017']    ['3 people found this helpful']   \n",
       "3   ['on 6 February 2017']  ['One person found this helpful']   \n",
       "4      ['on 5 March 2018']                                 []   \n",
       "\n",
       "                   rating                                              title  \\\n",
       "0  ['5.0 out of 5 stars']               ['Really useful, and sort of cool!']   \n",
       "1  ['4.0 out of 5 stars']  ['Works fine with Alexa. Dubious about claimed...   \n",
       "2  ['5.0 out of 5 stars']  ['Have been perfectly happy with the installat...   \n",
       "3  ['5.0 out of 5 stars']                     ['Slick Simple Functionality']   \n",
       "4  ['5.0 out of 5 stars']                ['Simple, elegant and just works.']   \n",
       "\n",
       "   polarityScore  \n",
       "0       0.347917  \n",
       "1       0.247222  \n",
       "2       0.266667  \n",
       "3       0.235771  \n",
       "4       0.064484  "
      ]
     },
     "execution_count": 210,
     "metadata": {},
     "output_type": "execute_result"
    }
   ],
   "source": [
    "reviewData.head()"
   ]
  },
  {
   "cell_type": "code",
   "execution_count": 75,
   "metadata": {},
   "outputs": [],
   "source": [
    "negativeReviews = reviewData[reviewData.polarityScore < 0]"
   ]
  },
  {
   "cell_type": "code",
   "execution_count": 76,
   "metadata": {},
   "outputs": [
    {
     "data": {
      "text/html": [
       "<div>\n",
       "<style scoped>\n",
       "    .dataframe tbody tr th:only-of-type {\n",
       "        vertical-align: middle;\n",
       "    }\n",
       "\n",
       "    .dataframe tbody tr th {\n",
       "        vertical-align: top;\n",
       "    }\n",
       "\n",
       "    .dataframe thead th {\n",
       "        text-align: right;\n",
       "    }\n",
       "</style>\n",
       "<table border=\"1\" class=\"dataframe\">\n",
       "  <thead>\n",
       "    <tr style=\"text-align: right;\">\n",
       "      <th></th>\n",
       "      <th>author</th>\n",
       "      <th>body</th>\n",
       "      <th>date</th>\n",
       "      <th>helpful</th>\n",
       "      <th>rating</th>\n",
       "      <th>title</th>\n",
       "      <th>polarityScore</th>\n",
       "    </tr>\n",
       "  </thead>\n",
       "  <tbody>\n",
       "    <tr>\n",
       "      <th>8</th>\n",
       "      <td>[]</td>\n",
       "      <td>product proved pretty unreliable keep disconne...</td>\n",
       "      <td>['Reviewed in the United Kingdom on 23 March 2...</td>\n",
       "      <td>['2 people found this helpful']</td>\n",
       "      <td>['2.0 out of 5 stars']</td>\n",
       "      <td>['\\n\\n\\n\\n\\n\\n\\n\\n  \\n  \\n    ', 'Thermostat k...</td>\n",
       "      <td>-0.173611</td>\n",
       "    </tr>\n",
       "    <tr>\n",
       "      <th>3</th>\n",
       "      <td>[]</td>\n",
       "      <td>struggled different expensive system since new...</td>\n",
       "      <td>['Reviewed in the United Kingdom on 25 May 2021']</td>\n",
       "      <td>[]</td>\n",
       "      <td>['5.0 out of 5 stars']</td>\n",
       "      <td>['\\n\\n\\n\\n\\n\\n\\n\\n  \\n  \\n    ', 'Simples', '\\...</td>\n",
       "      <td>-0.015383</td>\n",
       "    </tr>\n",
       "    <tr>\n",
       "      <th>7</th>\n",
       "      <td>[]</td>\n",
       "      <td>warning unit buggy firstly look blog unable co...</td>\n",
       "      <td>['Reviewed in the United Kingdom on 17 January...</td>\n",
       "      <td>[]</td>\n",
       "      <td>['1.0 out of 5 stars']</td>\n",
       "      <td>['\\n\\n\\n\\n\\n\\n\\n\\n  \\n  \\n    ', 'Unfinished s...</td>\n",
       "      <td>-0.131250</td>\n",
       "    </tr>\n",
       "    <tr>\n",
       "      <th>3</th>\n",
       "      <td>[]</td>\n",
       "      <td>cant without plumber wired dont thing hard min...</td>\n",
       "      <td>['Reviewed in the United Kingdom on 6 June 2020']</td>\n",
       "      <td>[]</td>\n",
       "      <td>['5.0 out of 5 stars']</td>\n",
       "      <td>['\\n\\n\\n\\n\\n\\n\\n\\n  \\n  \\n    ', 'Easy to use ...</td>\n",
       "      <td>-0.291667</td>\n",
       "    </tr>\n",
       "    <tr>\n",
       "      <th>5</th>\n",
       "      <td>[]</td>\n",
       "      <td>simply could pair begin didnt spot old program...</td>\n",
       "      <td>['Reviewed in the United Kingdom on 6 January ...</td>\n",
       "      <td>[]</td>\n",
       "      <td>['3.0 out of 5 stars']</td>\n",
       "      <td>['\\n\\n\\n\\n\\n\\n\\n\\n  \\n  \\n    ', 'Struggled to...</td>\n",
       "      <td>-0.116667</td>\n",
       "    </tr>\n",
       "  </tbody>\n",
       "</table>\n",
       "</div>"
      ],
      "text/plain": [
       "  author                                               body  \\\n",
       "8     []  product proved pretty unreliable keep disconne...   \n",
       "3     []  struggled different expensive system since new...   \n",
       "7     []  warning unit buggy firstly look blog unable co...   \n",
       "3     []  cant without plumber wired dont thing hard min...   \n",
       "5     []  simply could pair begin didnt spot old program...   \n",
       "\n",
       "                                                date  \\\n",
       "8  ['Reviewed in the United Kingdom on 23 March 2...   \n",
       "3  ['Reviewed in the United Kingdom on 25 May 2021']   \n",
       "7  ['Reviewed in the United Kingdom on 17 January...   \n",
       "3  ['Reviewed in the United Kingdom on 6 June 2020']   \n",
       "5  ['Reviewed in the United Kingdom on 6 January ...   \n",
       "\n",
       "                           helpful                  rating  \\\n",
       "8  ['2 people found this helpful']  ['2.0 out of 5 stars']   \n",
       "3                               []  ['5.0 out of 5 stars']   \n",
       "7                               []  ['1.0 out of 5 stars']   \n",
       "3                               []  ['5.0 out of 5 stars']   \n",
       "5                               []  ['3.0 out of 5 stars']   \n",
       "\n",
       "                                               title  polarityScore  \n",
       "8  ['\\n\\n\\n\\n\\n\\n\\n\\n  \\n  \\n    ', 'Thermostat k...      -0.173611  \n",
       "3  ['\\n\\n\\n\\n\\n\\n\\n\\n  \\n  \\n    ', 'Simples', '\\...      -0.015383  \n",
       "7  ['\\n\\n\\n\\n\\n\\n\\n\\n  \\n  \\n    ', 'Unfinished s...      -0.131250  \n",
       "3  ['\\n\\n\\n\\n\\n\\n\\n\\n  \\n  \\n    ', 'Easy to use ...      -0.291667  \n",
       "5  ['\\n\\n\\n\\n\\n\\n\\n\\n  \\n  \\n    ', 'Struggled to...      -0.116667  "
      ]
     },
     "execution_count": 76,
     "metadata": {},
     "output_type": "execute_result"
    }
   ],
   "source": [
    "negativeReviews.head()"
   ]
  }
 ],
 "metadata": {
  "kernelspec": {
   "display_name": "Python 3",
   "language": "python",
   "name": "python3"
  },
  "language_info": {
   "codemirror_mode": {
    "name": "ipython",
    "version": 3
   },
   "file_extension": ".py",
   "mimetype": "text/x-python",
   "name": "python",
   "nbconvert_exporter": "python",
   "pygments_lexer": "ipython3",
   "version": "3.6.8"
  }
 },
 "nbformat": 4,
 "nbformat_minor": 2
}
